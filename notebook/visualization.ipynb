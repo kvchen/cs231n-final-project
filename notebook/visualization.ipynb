{
 "cells": [
  {
   "cell_type": "code",
   "execution_count": 5,
   "metadata": {},
   "outputs": [],
   "source": [
    "import numpy as np\n",
    "import tensorflow as tf\n",
    "import tensorlayer as tl"
   ]
  },
  {
   "cell_type": "code",
   "execution_count": 3,
   "metadata": {},
   "outputs": [
    {
     "name": "stdout",
     "output_type": "stream",
     "text": [
      "INFO:tensorflow:Restoring parameters from ../checkpoint/ppo/model.ckpt-567036\n"
     ]
    }
   ],
   "source": [
    "sess = tf.Session()\n",
    "new_saver = tf.train.import_meta_graph('../checkpoint/ppo/model.ckpt-567036.meta')\n",
    "new_saver.restore(sess, tf.train.latest_checkpoint('../checkpoint/ppo'))"
   ]
  },
  {
   "cell_type": "code",
   "execution_count": 27,
   "metadata": {},
   "outputs": [],
   "source": [
    "variables = tf.trainable_variables()\n",
    "placeholders = [ op for op in sess.graph.get_operations() if op.type == \"Placeholder\"]"
   ]
  },
  {
   "cell_type": "code",
   "execution_count": 28,
   "metadata": {},
   "outputs": [],
   "source": [
    "writer = tf.summary.FileWriter(\"output\", sess.graph)\n",
    "sess.run(variables[-1])\n",
    "writer.close()"
   ]
  },
  {
   "cell_type": "code",
   "execution_count": 29,
   "metadata": {},
   "outputs": [
    {
     "name": "stdout",
     "output_type": "stream",
     "text": [
      "[<tf.Variable 'ppo/actions-and-internals/layered-network/apply/conv2d0/apply/W:0' shape=(8, 8, 4, 32) dtype=float32_ref>, <tf.Variable 'ppo/actions-and-internals/layered-network/apply/conv2d0/apply/b:0' shape=(32,) dtype=float32_ref>, <tf.Variable 'ppo/actions-and-internals/layered-network/apply/conv2d1/apply/W:0' shape=(4, 4, 32, 64) dtype=float32_ref>, <tf.Variable 'ppo/actions-and-internals/layered-network/apply/conv2d1/apply/b:0' shape=(64,) dtype=float32_ref>, <tf.Variable 'ppo/actions-and-internals/layered-network/apply/conv2d2/apply/W:0' shape=(3, 3, 64, 64) dtype=float32_ref>, <tf.Variable 'ppo/actions-and-internals/layered-network/apply/conv2d2/apply/b:0' shape=(64,) dtype=float32_ref>, <tf.Variable 'ppo/actions-and-internals/layered-network/apply/dense0/apply/linear/apply/W:0' shape=(10816, 256) dtype=float32_ref>, <tf.Variable 'ppo/actions-and-internals/layered-network/apply/dense0/apply/linear/apply/b:0' shape=(256,) dtype=float32_ref>, <tf.Variable 'ppo/actions-and-internals/categorical/parameterize/logits/apply/W:0' shape=(256, 3) dtype=float32_ref>, <tf.Variable 'ppo/actions-and-internals/categorical/parameterize/logits/apply/b:0' shape=(3,) dtype=float32_ref>, <tf.Variable 'ppo/actions-and-internals/layered-network/apply/conv2d0/apply/W:0' shape=(8, 8, 4, 32) dtype=float32_ref>, <tf.Variable 'ppo/actions-and-internals/layered-network/apply/conv2d0/apply/b:0' shape=(32,) dtype=float32_ref>, <tf.Variable 'ppo/actions-and-internals/layered-network/apply/conv2d1/apply/W:0' shape=(4, 4, 32, 64) dtype=float32_ref>, <tf.Variable 'ppo/actions-and-internals/layered-network/apply/conv2d1/apply/b:0' shape=(64,) dtype=float32_ref>, <tf.Variable 'ppo/actions-and-internals/layered-network/apply/conv2d2/apply/W:0' shape=(3, 3, 64, 64) dtype=float32_ref>, <tf.Variable 'ppo/actions-and-internals/layered-network/apply/conv2d2/apply/b:0' shape=(64,) dtype=float32_ref>, <tf.Variable 'ppo/actions-and-internals/layered-network/apply/dense0/apply/linear/apply/W:0' shape=(10816, 256) dtype=float32_ref>, <tf.Variable 'ppo/actions-and-internals/layered-network/apply/dense0/apply/linear/apply/b:0' shape=(256,) dtype=float32_ref>, <tf.Variable 'ppo/actions-and-internals/categorical/parameterize/logits/apply/W:0' shape=(256, 3) dtype=float32_ref>, <tf.Variable 'ppo/actions-and-internals/categorical/parameterize/logits/apply/b:0' shape=(3,) dtype=float32_ref>]\n",
      "[<tf.Operation 'ppo/independent' type=Placeholder>, <tf.Operation 'ppo/deterministic' type=Placeholder>, <tf.Operation 'ppo/reward' type=Placeholder>, <tf.Operation 'ppo/terminal' type=Placeholder>, <tf.Operation 'ppo/action-action' type=Placeholder>, <tf.Operation 'ppo/state-state' type=Placeholder>, <tf.Operation 'ppo/independent_1' type=Placeholder>, <tf.Operation 'ppo/deterministic_1' type=Placeholder>, <tf.Operation 'ppo/reward_1' type=Placeholder>, <tf.Operation 'ppo/terminal_1' type=Placeholder>, <tf.Operation 'ppo/action-action_1' type=Placeholder>, <tf.Operation 'ppo/state-state_1' type=Placeholder>]\n"
     ]
    }
   ],
   "source": [
    "print(variables)\n",
    "print(placeholders)"
   ]
  },
  {
   "cell_type": "code",
   "execution_count": 23,
   "metadata": {},
   "outputs": [
    {
     "data": {
      "image/png": "[encoded data removed]",
      "text/plain": [
       "<Figure size 432x288 with 32 Axes>"
      ]
     },
     "metadata": {},
     "output_type": "display_data"
    }
   ],
   "source": [
    "conv2d1 = variables[0]\n",
    "\n",
    "filters1 = (conv2d1.eval(session=sess)[:, :, :-1, :] + 1) / 2\n",
    "\n",
    "tl.visualize.CNN2d(\n",
    "    filters1,\n",
    "    saveable=True,\n",
    "    name='cnn1_sh',\n",
    "    fig_idx=0,\n",
    ")"
   ]
  },
  {
   "cell_type": "code",
   "execution_count": null,
   "metadata": {},
   "outputs": [],
   "source": []
  }
 ],
 "metadata": {
  "kernelspec": {
   "display_name": "Python 3",
   "language": "python",
   "name": "python3"
  },
  "language_info": {
   "codemirror_mode": {
    "name": "ipython",
    "version": 3
   },
   "file_extension": ".py",
   "mimetype": "text/x-python",
   "name": "python",
   "nbconvert_exporter": "python",
   "pygments_lexer": "ipython3",
   "version": "3.6.4"
  }
 },
 "nbformat": 4,
 "nbformat_minor": 2
}
